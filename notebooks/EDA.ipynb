{
 "cells": [
  {
   "cell_type": "code",
   "execution_count": 2,
   "metadata": {},
   "outputs": [],
   "source": [
    "import pandas as pd\n",
    "import numpy as np\n",
    "import matplotlib.pyplot as plt\n",
    "from sklearn.model_selection import train_test_split\n",
    "from sklearn.decomposition import PCA\n",
    "from sklearn.preprocessing import MinMaxScaler\n",
    "import os\n",
    "from pandas_profiling import ProfileReport"
   ]
  },
  {
   "cell_type": "code",
   "execution_count": 4,
   "metadata": {},
   "outputs": [],
   "source": [
    "# os.getcwd()"
   ]
  },
  {
   "cell_type": "code",
   "execution_count": 3,
   "metadata": {},
   "outputs": [
    {
     "name": "stdout",
     "output_type": "stream",
     "text": [
      "   0      1         2      3      4      5       6      7      8      9   ...  \\\n",
      "0   1  1.488  0.000090  0.900  0.794  2.699   8.334  0.779  4.517  4.609  ...   \n",
      "1   1  0.728  0.000038  0.353  0.376  1.059   5.864  0.642  2.058  3.180  ...   \n",
      "2   1  1.220  0.000074  0.732  0.670  2.196   8.719  0.875  4.347  5.166  ...   \n",
      "3   1  2.502  0.000123  1.156  1.634  3.469  13.513  1.273  5.263  8.771  ...   \n",
      "4   1  3.509  0.000167  1.715  1.539  5.145   9.112  1.040  3.102  4.927  ...   \n",
      "\n",
      "        19    20    21        22        23      24  25      26  27  28  \n",
      "0  187.576   160   159  0.006065  0.000416   0.000   0   0.000  23   1  \n",
      "1  234.505   170   169  0.005181  0.000403   2.247   0   0.000  23   1  \n",
      "2  211.442  1431  1427  0.006071  0.000474  10.656   1   0.178  23   1  \n",
      "3  220.230    94    92  0.004910  0.000320   0.000   0   0.000  23   1  \n",
      "4  225.162   117   114  0.004757  0.000380  18.182   1  13.318  23   1  \n",
      "\n",
      "[5 rows x 29 columns]\n"
     ]
    }
   ],
   "source": [
    "df = pd.read_csv(\"..\\data\\\\raw\\\\train_data.txt\", header = None)\n",
    "print(df.head())"
   ]
  },
  {
   "cell_type": "code",
   "execution_count": 13,
   "metadata": {},
   "outputs": [
    {
     "data": {
      "text/html": [
       "<div>\n",
       "<style scoped>\n",
       "    .dataframe tbody tr th:only-of-type {\n",
       "        vertical-align: middle;\n",
       "    }\n",
       "\n",
       "    .dataframe tbody tr th {\n",
       "        vertical-align: top;\n",
       "    }\n",
       "\n",
       "    .dataframe thead th {\n",
       "        text-align: right;\n",
       "    }\n",
       "</style>\n",
       "<table border=\"1\" class=\"dataframe\">\n",
       "  <thead>\n",
       "    <tr style=\"text-align: right;\">\n",
       "      <th></th>\n",
       "      <th>1</th>\n",
       "      <th>2</th>\n",
       "      <th>3</th>\n",
       "      <th>4</th>\n",
       "      <th>5</th>\n",
       "      <th>6</th>\n",
       "      <th>7</th>\n",
       "      <th>8</th>\n",
       "      <th>9</th>\n",
       "      <th>10</th>\n",
       "      <th>...</th>\n",
       "      <th>16</th>\n",
       "      <th>17</th>\n",
       "      <th>18</th>\n",
       "      <th>19</th>\n",
       "      <th>20</th>\n",
       "      <th>21</th>\n",
       "      <th>23</th>\n",
       "      <th>24</th>\n",
       "      <th>25</th>\n",
       "      <th>26</th>\n",
       "    </tr>\n",
       "  </thead>\n",
       "  <tbody>\n",
       "    <tr>\n",
       "      <th>0</th>\n",
       "      <td>1.488</td>\n",
       "      <td>0.000090</td>\n",
       "      <td>0.900</td>\n",
       "      <td>0.794</td>\n",
       "      <td>2.699</td>\n",
       "      <td>8.334</td>\n",
       "      <td>0.779</td>\n",
       "      <td>4.517</td>\n",
       "      <td>4.609</td>\n",
       "      <td>6.802</td>\n",
       "      <td>...</td>\n",
       "      <td>164.781</td>\n",
       "      <td>10.421</td>\n",
       "      <td>142.229</td>\n",
       "      <td>187.576</td>\n",
       "      <td>160</td>\n",
       "      <td>159</td>\n",
       "      <td>0.000416</td>\n",
       "      <td>0.000</td>\n",
       "      <td>0</td>\n",
       "      <td>0.000</td>\n",
       "    </tr>\n",
       "    <tr>\n",
       "      <th>1</th>\n",
       "      <td>0.728</td>\n",
       "      <td>0.000038</td>\n",
       "      <td>0.353</td>\n",
       "      <td>0.376</td>\n",
       "      <td>1.059</td>\n",
       "      <td>5.864</td>\n",
       "      <td>0.642</td>\n",
       "      <td>2.058</td>\n",
       "      <td>3.180</td>\n",
       "      <td>7.194</td>\n",
       "      <td>...</td>\n",
       "      <td>193.289</td>\n",
       "      <td>14.773</td>\n",
       "      <td>159.515</td>\n",
       "      <td>234.505</td>\n",
       "      <td>170</td>\n",
       "      <td>169</td>\n",
       "      <td>0.000403</td>\n",
       "      <td>2.247</td>\n",
       "      <td>0</td>\n",
       "      <td>0.000</td>\n",
       "    </tr>\n",
       "    <tr>\n",
       "      <th>2</th>\n",
       "      <td>1.220</td>\n",
       "      <td>0.000074</td>\n",
       "      <td>0.732</td>\n",
       "      <td>0.670</td>\n",
       "      <td>2.196</td>\n",
       "      <td>8.719</td>\n",
       "      <td>0.875</td>\n",
       "      <td>4.347</td>\n",
       "      <td>5.166</td>\n",
       "      <td>7.548</td>\n",
       "      <td>...</td>\n",
       "      <td>164.768</td>\n",
       "      <td>12.981</td>\n",
       "      <td>146.445</td>\n",
       "      <td>211.442</td>\n",
       "      <td>1431</td>\n",
       "      <td>1427</td>\n",
       "      <td>0.000474</td>\n",
       "      <td>10.656</td>\n",
       "      <td>1</td>\n",
       "      <td>0.178</td>\n",
       "    </tr>\n",
       "    <tr>\n",
       "      <th>3</th>\n",
       "      <td>2.502</td>\n",
       "      <td>0.000123</td>\n",
       "      <td>1.156</td>\n",
       "      <td>1.634</td>\n",
       "      <td>3.469</td>\n",
       "      <td>13.513</td>\n",
       "      <td>1.273</td>\n",
       "      <td>5.263</td>\n",
       "      <td>8.771</td>\n",
       "      <td>16.779</td>\n",
       "      <td>...</td>\n",
       "      <td>203.471</td>\n",
       "      <td>10.853</td>\n",
       "      <td>182.713</td>\n",
       "      <td>220.230</td>\n",
       "      <td>94</td>\n",
       "      <td>92</td>\n",
       "      <td>0.000320</td>\n",
       "      <td>0.000</td>\n",
       "      <td>0</td>\n",
       "      <td>0.000</td>\n",
       "    </tr>\n",
       "    <tr>\n",
       "      <th>4</th>\n",
       "      <td>3.509</td>\n",
       "      <td>0.000167</td>\n",
       "      <td>1.715</td>\n",
       "      <td>1.539</td>\n",
       "      <td>5.145</td>\n",
       "      <td>9.112</td>\n",
       "      <td>1.040</td>\n",
       "      <td>3.102</td>\n",
       "      <td>4.927</td>\n",
       "      <td>12.823</td>\n",
       "      <td>...</td>\n",
       "      <td>208.440</td>\n",
       "      <td>11.499</td>\n",
       "      <td>182.821</td>\n",
       "      <td>225.162</td>\n",
       "      <td>117</td>\n",
       "      <td>114</td>\n",
       "      <td>0.000380</td>\n",
       "      <td>18.182</td>\n",
       "      <td>1</td>\n",
       "      <td>13.318</td>\n",
       "    </tr>\n",
       "    <tr>\n",
       "      <th>...</th>\n",
       "      <td>...</td>\n",
       "      <td>...</td>\n",
       "      <td>...</td>\n",
       "      <td>...</td>\n",
       "      <td>...</td>\n",
       "      <td>...</td>\n",
       "      <td>...</td>\n",
       "      <td>...</td>\n",
       "      <td>...</td>\n",
       "      <td>...</td>\n",
       "      <td>...</td>\n",
       "      <td>...</td>\n",
       "      <td>...</td>\n",
       "      <td>...</td>\n",
       "      <td>...</td>\n",
       "      <td>...</td>\n",
       "      <td>...</td>\n",
       "      <td>...</td>\n",
       "      <td>...</td>\n",
       "      <td>...</td>\n",
       "      <td>...</td>\n",
       "    </tr>\n",
       "    <tr>\n",
       "      <th>1035</th>\n",
       "      <td>5.127</td>\n",
       "      <td>0.000398</td>\n",
       "      <td>2.721</td>\n",
       "      <td>2.510</td>\n",
       "      <td>8.162</td>\n",
       "      <td>9.846</td>\n",
       "      <td>0.965</td>\n",
       "      <td>4.593</td>\n",
       "      <td>6.806</td>\n",
       "      <td>8.303</td>\n",
       "      <td>...</td>\n",
       "      <td>130.350</td>\n",
       "      <td>14.387</td>\n",
       "      <td>96.145</td>\n",
       "      <td>158.591</td>\n",
       "      <td>63</td>\n",
       "      <td>60</td>\n",
       "      <td>0.001066</td>\n",
       "      <td>24.194</td>\n",
       "      <td>2</td>\n",
       "      <td>15.113</td>\n",
       "    </tr>\n",
       "    <tr>\n",
       "      <th>1036</th>\n",
       "      <td>1.757</td>\n",
       "      <td>0.000133</td>\n",
       "      <td>0.808</td>\n",
       "      <td>0.690</td>\n",
       "      <td>2.425</td>\n",
       "      <td>7.571</td>\n",
       "      <td>0.740</td>\n",
       "      <td>2.720</td>\n",
       "      <td>3.927</td>\n",
       "      <td>11.928</td>\n",
       "      <td>...</td>\n",
       "      <td>132.244</td>\n",
       "      <td>7.140</td>\n",
       "      <td>121.490</td>\n",
       "      <td>143.797</td>\n",
       "      <td>47</td>\n",
       "      <td>44</td>\n",
       "      <td>0.000430</td>\n",
       "      <td>46.053</td>\n",
       "      <td>1</td>\n",
       "      <td>25.792</td>\n",
       "    </tr>\n",
       "    <tr>\n",
       "      <th>1037</th>\n",
       "      <td>2.912</td>\n",
       "      <td>0.000226</td>\n",
       "      <td>1.141</td>\n",
       "      <td>1.266</td>\n",
       "      <td>3.423</td>\n",
       "      <td>15.489</td>\n",
       "      <td>1.456</td>\n",
       "      <td>6.433</td>\n",
       "      <td>10.138</td>\n",
       "      <td>14.239</td>\n",
       "      <td>...</td>\n",
       "      <td>128.388</td>\n",
       "      <td>13.593</td>\n",
       "      <td>95.921</td>\n",
       "      <td>149.641</td>\n",
       "      <td>79</td>\n",
       "      <td>77</td>\n",
       "      <td>0.000881</td>\n",
       "      <td>20.000</td>\n",
       "      <td>1</td>\n",
       "      <td>4.574</td>\n",
       "    </tr>\n",
       "    <tr>\n",
       "      <th>1038</th>\n",
       "      <td>3.788</td>\n",
       "      <td>0.000275</td>\n",
       "      <td>1.786</td>\n",
       "      <td>1.484</td>\n",
       "      <td>5.359</td>\n",
       "      <td>15.702</td>\n",
       "      <td>1.367</td>\n",
       "      <td>6.374</td>\n",
       "      <td>11.094</td>\n",
       "      <td>18.818</td>\n",
       "      <td>...</td>\n",
       "      <td>135.943</td>\n",
       "      <td>46.764</td>\n",
       "      <td>90.051</td>\n",
       "      <td>451.366</td>\n",
       "      <td>75</td>\n",
       "      <td>70</td>\n",
       "      <td>0.001714</td>\n",
       "      <td>16.667</td>\n",
       "      <td>3</td>\n",
       "      <td>19.575</td>\n",
       "    </tr>\n",
       "    <tr>\n",
       "      <th>1039</th>\n",
       "      <td>1.809</td>\n",
       "      <td>0.000149</td>\n",
       "      <td>0.680</td>\n",
       "      <td>0.843</td>\n",
       "      <td>2.040</td>\n",
       "      <td>7.881</td>\n",
       "      <td>0.782</td>\n",
       "      <td>2.690</td>\n",
       "      <td>4.543</td>\n",
       "      <td>11.073</td>\n",
       "      <td>...</td>\n",
       "      <td>121.630</td>\n",
       "      <td>8.028</td>\n",
       "      <td>108.144</td>\n",
       "      <td>137.546</td>\n",
       "      <td>62</td>\n",
       "      <td>60</td>\n",
       "      <td>0.000566</td>\n",
       "      <td>18.182</td>\n",
       "      <td>1</td>\n",
       "      <td>3.387</td>\n",
       "    </tr>\n",
       "  </tbody>\n",
       "</table>\n",
       "<p>1040 rows × 25 columns</p>\n",
       "</div>"
      ],
      "text/plain": [
       "         1         2      3      4      5       6      7      8       9   \\\n",
       "0     1.488  0.000090  0.900  0.794  2.699   8.334  0.779  4.517   4.609   \n",
       "1     0.728  0.000038  0.353  0.376  1.059   5.864  0.642  2.058   3.180   \n",
       "2     1.220  0.000074  0.732  0.670  2.196   8.719  0.875  4.347   5.166   \n",
       "3     2.502  0.000123  1.156  1.634  3.469  13.513  1.273  5.263   8.771   \n",
       "4     3.509  0.000167  1.715  1.539  5.145   9.112  1.040  3.102   4.927   \n",
       "...     ...       ...    ...    ...    ...     ...    ...    ...     ...   \n",
       "1035  5.127  0.000398  2.721  2.510  8.162   9.846  0.965  4.593   6.806   \n",
       "1036  1.757  0.000133  0.808  0.690  2.425   7.571  0.740  2.720   3.927   \n",
       "1037  2.912  0.000226  1.141  1.266  3.423  15.489  1.456  6.433  10.138   \n",
       "1038  3.788  0.000275  1.786  1.484  5.359  15.702  1.367  6.374  11.094   \n",
       "1039  1.809  0.000149  0.680  0.843  2.040   7.881  0.782  2.690   4.543   \n",
       "\n",
       "          10  ...       16      17       18       19    20    21        23  \\\n",
       "0      6.802  ...  164.781  10.421  142.229  187.576   160   159  0.000416   \n",
       "1      7.194  ...  193.289  14.773  159.515  234.505   170   169  0.000403   \n",
       "2      7.548  ...  164.768  12.981  146.445  211.442  1431  1427  0.000474   \n",
       "3     16.779  ...  203.471  10.853  182.713  220.230    94    92  0.000320   \n",
       "4     12.823  ...  208.440  11.499  182.821  225.162   117   114  0.000380   \n",
       "...      ...  ...      ...     ...      ...      ...   ...   ...       ...   \n",
       "1035   8.303  ...  130.350  14.387   96.145  158.591    63    60  0.001066   \n",
       "1036  11.928  ...  132.244   7.140  121.490  143.797    47    44  0.000430   \n",
       "1037  14.239  ...  128.388  13.593   95.921  149.641    79    77  0.000881   \n",
       "1038  18.818  ...  135.943  46.764   90.051  451.366    75    70  0.001714   \n",
       "1039  11.073  ...  121.630   8.028  108.144  137.546    62    60  0.000566   \n",
       "\n",
       "          24  25      26  \n",
       "0      0.000   0   0.000  \n",
       "1      2.247   0   0.000  \n",
       "2     10.656   1   0.178  \n",
       "3      0.000   0   0.000  \n",
       "4     18.182   1  13.318  \n",
       "...      ...  ..     ...  \n",
       "1035  24.194   2  15.113  \n",
       "1036  46.053   1  25.792  \n",
       "1037  20.000   1   4.574  \n",
       "1038  16.667   3  19.575  \n",
       "1039  18.182   1   3.387  \n",
       "\n",
       "[1040 rows x 25 columns]"
      ]
     },
     "execution_count": 13,
     "metadata": {},
     "output_type": "execute_result"
    }
   ],
   "source": [
    "df2 = df.drop([0,22,27,28], axis = 1)\n",
    "df2"
   ]
  },
  {
   "cell_type": "code",
   "execution_count": 14,
   "metadata": {},
   "outputs": [
    {
     "data": {
      "application/vnd.jupyter.widget-view+json": {
       "model_id": "29aa55d4d347475bbbafa3e3149c3114",
       "version_major": 2,
       "version_minor": 0
      },
      "text/plain": [
       "HBox(children=(HTML(value='Summarize dataset'), FloatProgress(value=0.0, max=39.0), HTML(value='')))"
      ]
     },
     "metadata": {},
     "output_type": "display_data"
    },
    {
     "name": "stdout",
     "output_type": "stream",
     "text": [
      "\n"
     ]
    },
    {
     "data": {
      "application/vnd.jupyter.widget-view+json": {
       "model_id": "e27e2122aa0d47a2b7fe767a91e9486c",
       "version_major": 2,
       "version_minor": 0
      },
      "text/plain": [
       "HBox(children=(HTML(value='Generate report structure'), FloatProgress(value=0.0, max=1.0), HTML(value='')))"
      ]
     },
     "metadata": {},
     "output_type": "display_data"
    },
    {
     "name": "stdout",
     "output_type": "stream",
     "text": [
      "\n"
     ]
    },
    {
     "data": {
      "application/vnd.jupyter.widget-view+json": {
       "model_id": "",
       "version_major": 2,
       "version_minor": 0
      },
      "text/plain": [
       "HBox(children=(HTML(value='Render widgets'), FloatProgress(value=0.0, max=1.0), HTML(value='')))"
      ]
     },
     "metadata": {},
     "output_type": "display_data"
    },
    {
     "data": {
      "application/vnd.jupyter.widget-view+json": {
       "model_id": "4019c1c61f0847e38fc08f5f03e56764",
       "version_major": 2,
       "version_minor": 0
      },
      "text/plain": [
       "VBox(children=(Tab(children=(Tab(children=(GridBox(children=(VBox(children=(GridspecLayout(children=(HTML(valu…"
      ]
     },
     "metadata": {},
     "output_type": "display_data"
    }
   ],
   "source": [
    "pf = ProfileReport(df2,explorative=True)\n",
    "pf.to_widgets()"
   ]
  },
  {
   "cell_type": "code",
   "execution_count": 16,
   "metadata": {},
   "outputs": [
    {
     "data": {
      "image/png": "[encoded data removed]",
      "text/plain": [
       "<Figure size 432x288 with 1 Axes>"
      ]
     },
     "metadata": {
      "needs_background": "light"
     },
     "output_type": "display_data"
    },
    {
     "data": {
      "image/png": "[encoded data removed]",
      "text/plain": [
       "<Figure size 432x288 with 1 Axes>"
      ]
     },
     "metadata": {
      "needs_background": "light"
     },
     "output_type": "display_data"
    },
    {
     "name": "stdout",
     "output_type": "stream",
     "text": [
      "0.7693618648865815\n",
      "0.699214403748184\n",
      "0.8786000123282536\n",
      "             0         1         2         3         4         5\n",
      "0    -0.475849  0.036366  0.142982 -0.056120 -0.053251 -0.037810\n",
      "1    -0.660519  0.263583  0.092921 -0.007546 -0.017194  0.023470\n",
      "2    -0.539432  0.292999  0.118608 -0.159461  0.050811 -0.450969\n",
      "3    -0.267418  0.051740  0.327392 -0.082964 -0.006847 -0.089589\n",
      "4    -0.092371  0.133392  0.122079  0.163664 -0.088393 -0.109885\n",
      "...        ...       ...       ...       ...       ...       ...\n",
      "1035  0.221095 -0.266983 -0.034831  0.159209 -0.393563 -0.106977\n",
      "1036 -0.185572 -0.078161 -0.353163  0.249160  0.067818  0.022503\n",
      "1037 -0.119228 -0.260189  0.032293 -0.093683 -0.034740 -0.027222\n",
      "1038  0.430049  0.092851 -0.066076 -0.343593 -0.265731 -0.013712\n",
      "1039 -0.465421 -0.128175 -0.108567  0.037020 -0.088127  0.043181\n",
      "\n",
      "[1040 rows x 6 columns]\n"
     ]
    }
   ],
   "source": [
    "min_max = MinMaxScaler()\n",
    "\n",
    "df3 = min_max.fit_transform(df2)\n",
    "\n",
    "\n",
    "pca = PCA()\n",
    "\n",
    "df2_pca = pca.fit_transform(df3)\n",
    "plt.plot(pca.explained_variance_ratio_)\n",
    "plt.xlabel(\"Component Number\")\n",
    "plt.ylabel(\"Variance Captured\")\n",
    "plt.title(\"SCREE Plot\")\n",
    "# plt.show()\n",
    "plt.savefig(\"scree_plot.png\")\n",
    "plt.plot(pca.explained_variance_ratio_[0:10])\n",
    "plt.show()\n",
    "plt.plot(pca.explained_variance_ratio_[0:3])\n",
    "plt.show()\n",
    "print(sum(pca.explained_variance_ratio_[0:4]))\n",
    "print(sum(pca.explained_variance_ratio_[0:3]))\n",
    "df4 = pd.DataFrame(df2_pca[:,0:6])\n",
    "print(sum(pca.explained_variance_ratio_[0:6]))\n",
    "print(df4)"
   ]
  },
  {
   "cell_type": "code",
   "execution_count": null,
   "metadata": {},
   "outputs": [],
   "source": [
    "df5 = pd.concat([df4, df[28]], axis =1)\n",
    "df5.head()\n",
    "print(df4.columns)"
   ]
  },
  {
   "cell_type": "code",
   "execution_count": 15,
   "metadata": {},
   "outputs": [
    {
     "ename": "NameError",
     "evalue": "name 'df5' is not defined",
     "output_type": "error",
     "traceback": [
      "\u001b[1;31m---------------------------------------------------------------------------\u001b[0m",
      "\u001b[1;31mNameError\u001b[0m                                 Traceback (most recent call last)",
      "\u001b[1;32m<ipython-input-15-42acac92bff4>\u001b[0m in \u001b[0;36m<module>\u001b[1;34m\u001b[0m\n\u001b[0;32m      1\u001b[0m \u001b[1;32mfor\u001b[0m \u001b[0mx\u001b[0m \u001b[1;32min\u001b[0m \u001b[0mdf4\u001b[0m\u001b[1;33m.\u001b[0m\u001b[0mcolumns\u001b[0m\u001b[1;33m:\u001b[0m\u001b[1;33m\u001b[0m\u001b[1;33m\u001b[0m\u001b[0m\n\u001b[0;32m      2\u001b[0m     \u001b[1;32mfor\u001b[0m \u001b[0my\u001b[0m \u001b[1;32min\u001b[0m \u001b[0mdf4\u001b[0m\u001b[1;33m.\u001b[0m\u001b[0mcolumns\u001b[0m\u001b[1;33m:\u001b[0m\u001b[1;33m\u001b[0m\u001b[1;33m\u001b[0m\u001b[0m\n\u001b[1;32m----> 3\u001b[1;33m         \u001b[0mplt\u001b[0m\u001b[1;33m.\u001b[0m\u001b[0mscatter\u001b[0m\u001b[1;33m(\u001b[0m\u001b[0mdf5\u001b[0m\u001b[1;33m[\u001b[0m\u001b[0mx\u001b[0m\u001b[1;33m]\u001b[0m\u001b[1;33m,\u001b[0m \u001b[0mdf5\u001b[0m\u001b[1;33m[\u001b[0m\u001b[0my\u001b[0m\u001b[1;33m]\u001b[0m\u001b[1;33m,\u001b[0m \u001b[0mmarker\u001b[0m \u001b[1;33m=\u001b[0m \u001b[1;34m\".\"\u001b[0m\u001b[1;33m,\u001b[0m \u001b[0mc\u001b[0m \u001b[1;33m=\u001b[0m \u001b[0mdf5\u001b[0m\u001b[1;33m[\u001b[0m\u001b[1;36m28\u001b[0m\u001b[1;33m]\u001b[0m\u001b[1;33m,\u001b[0m \u001b[0malpha\u001b[0m \u001b[1;33m=\u001b[0m \u001b[1;36m0.6\u001b[0m\u001b[1;33m)\u001b[0m\u001b[1;33m\u001b[0m\u001b[1;33m\u001b[0m\u001b[0m\n\u001b[0m\u001b[0;32m      4\u001b[0m         \u001b[0mplt\u001b[0m\u001b[1;33m.\u001b[0m\u001b[0mshow\u001b[0m\u001b[1;33m(\u001b[0m\u001b[1;33m)\u001b[0m\u001b[1;33m\u001b[0m\u001b[1;33m\u001b[0m\u001b[0m\n",
      "\u001b[1;31mNameError\u001b[0m: name 'df5' is not defined"
     ]
    }
   ],
   "source": [
    "for x in df4.columns:\n",
    "    for y in df4.columns:\n",
    "        plt.scatter(df5[x], df5[y], marker = \".\", c = df5[28], alpha = 0.6)\n",
    "        plt.show()"
   ]
  }
 ],
 "metadata": {
  "kernelspec": {
   "display_name": "Python 3",
   "language": "python",
   "name": "python3"
  },
  "language_info": {
   "codemirror_mode": {
    "name": "ipython",
    "version": 3
   },
   "file_extension": ".py",
   "mimetype": "text/x-python",
   "name": "python",
   "nbconvert_exporter": "python",
   "pygments_lexer": "ipython3",
   "version": "3.7.9"
  }
 },
 "nbformat": 4,
 "nbformat_minor": 4
}
