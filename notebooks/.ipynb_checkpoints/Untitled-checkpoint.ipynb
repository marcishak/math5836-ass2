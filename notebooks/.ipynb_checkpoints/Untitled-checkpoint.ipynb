{
 "cells": [
  {
   "cell_type": "code",
   "execution_count": 2,
   "metadata": {},
   "outputs": [],
   "source": [
    "import pandas as pd\n",
    "import matplotlib.pyplot as plt"
   ]
  },
  {
   "cell_type": "code",
   "execution_count": 3,
   "metadata": {},
   "outputs": [],
   "source": [
    "df = pd.read_csv(\"../full_testcsv.csv\")"
   ]
  },
  {
   "cell_type": "code",
   "execution_count": 14,
   "metadata": {},
   "outputs": [
    {
     "data": {
      "text/html": [
       "<div>\n",
       "<style scoped>\n",
       "    .dataframe tbody tr th:only-of-type {\n",
       "        vertical-align: middle;\n",
       "    }\n",
       "\n",
       "    .dataframe tbody tr th {\n",
       "        vertical-align: top;\n",
       "    }\n",
       "\n",
       "    .dataframe thead th {\n",
       "        text-align: right;\n",
       "    }\n",
       "</style>\n",
       "<table border=\"1\" class=\"dataframe\">\n",
       "  <thead>\n",
       "    <tr style=\"text-align: right;\">\n",
       "      <th></th>\n",
       "      <th>Unnamed: 0</th>\n",
       "      <th>fprs_mean</th>\n",
       "      <th>tprs_mean</th>\n",
       "      <th>fprs_std</th>\n",
       "      <th>tprs_std</th>\n",
       "      <th>roc_auc_mean</th>\n",
       "      <th>roc_auc_std</th>\n",
       "      <th>hidden_layer_size</th>\n",
       "    </tr>\n",
       "  </thead>\n",
       "  <tbody>\n",
       "    <tr>\n",
       "      <th>0</th>\n",
       "      <td>0</td>\n",
       "      <td>[0.0, 0.15294117647058822, 0.1588235294117647,...</td>\n",
       "      <td>[0.0, 0.22075471698113208, 0.2283018867924528,...</td>\n",
       "      <td>[0.0, 0.17804910091279239, 0.1789823664871754,...</td>\n",
       "      <td>[0.0, 0.21264001197436191, 0.21173589052949268...</td>\n",
       "      <td>0.624496</td>\n",
       "      <td>0.023751</td>\n",
       "      <td>1.0</td>\n",
       "    </tr>\n",
       "    <tr>\n",
       "      <th>1</th>\n",
       "      <td>1</td>\n",
       "      <td>[0.0, 0.04215686274509804, 0.0607843137254902,...</td>\n",
       "      <td>[0.0, 0.0669811320754717, 0.0679245283018868, ...</td>\n",
       "      <td>[0.0, 0.060267321392003956, 0.0542523031880970...</td>\n",
       "      <td>[0.0, 0.10348253448402782, 0.105503027491054, ...</td>\n",
       "      <td>0.634369</td>\n",
       "      <td>0.006913</td>\n",
       "      <td>2.0</td>\n",
       "    </tr>\n",
       "    <tr>\n",
       "      <th>2</th>\n",
       "      <td>2</td>\n",
       "      <td>[0.0, 0.00784313725490196, 0.02058823529411764...</td>\n",
       "      <td>[0.0, 0.0018867924528301887, 0.001886792452830...</td>\n",
       "      <td>[0.0, 0.004133696287801803, 0.0031002722158513...</td>\n",
       "      <td>[0.0, 0.00397770774863947, 0.00397770774863947...</td>\n",
       "      <td>0.635331</td>\n",
       "      <td>0.007894</td>\n",
       "      <td>4.0</td>\n",
       "    </tr>\n",
       "    <tr>\n",
       "      <th>3</th>\n",
       "      <td>3</td>\n",
       "      <td>[0.0, 0.026470588235294114, 0.0333333333333333...</td>\n",
       "      <td>[0.0, 0.027358490566037737, 0.0311320754716981...</td>\n",
       "      <td>[0.0, 0.04935614326284064, 0.04694976469560253...</td>\n",
       "      <td>[0.0, 0.08651514353290848, 0.08872718272543441...</td>\n",
       "      <td>0.638305</td>\n",
       "      <td>0.003800</td>\n",
       "      <td>5.0</td>\n",
       "    </tr>\n",
       "    <tr>\n",
       "      <th>4</th>\n",
       "      <td>4</td>\n",
       "      <td>[0.0, 0.010784313725490196, 0.0205882352941176...</td>\n",
       "      <td>[0.0, 0.0028301886792452833, 0.004716981132075...</td>\n",
       "      <td>[0.0, 0.007233968503653156, 0.0031002722158513...</td>\n",
       "      <td>[0.0, 0.004557036712638188, 0.0049721346857993...</td>\n",
       "      <td>0.639151</td>\n",
       "      <td>0.003357</td>\n",
       "      <td>10.0</td>\n",
       "    </tr>\n",
       "    <tr>\n",
       "      <th>5</th>\n",
       "      <td>5</td>\n",
       "      <td>[0.0, 0.02058823529411765, 0.03725490196078431...</td>\n",
       "      <td>[0.0, 0.014150943396226415, 0.0150943396226415...</td>\n",
       "      <td>[0.0, 0.012614548408901164, 0.0111303178862264...</td>\n",
       "      <td>[0.0, 0.006670818690439128, 0.0048716771650407...</td>\n",
       "      <td>0.640714</td>\n",
       "      <td>0.002954</td>\n",
       "      <td>20.0</td>\n",
       "    </tr>\n",
       "    <tr>\n",
       "      <th>6</th>\n",
       "      <td>6</td>\n",
       "      <td>[0.0, 0.020588235294117643, 0.0274509803921568...</td>\n",
       "      <td>[0.0, 0.00849056603773585, 0.01603773584905660...</td>\n",
       "      <td>[0.0, 0.014207232104107292, 0.0234748823478012...</td>\n",
       "      <td>[0.0, 0.012138527714225649, 0.0109386963087585...</td>\n",
       "      <td>0.645621</td>\n",
       "      <td>0.003797</td>\n",
       "      <td>50.0</td>\n",
       "    </tr>\n",
       "    <tr>\n",
       "      <th>7</th>\n",
       "      <td>7</td>\n",
       "      <td>[0.0, 0.011764705882352941, 0.0186274509803921...</td>\n",
       "      <td>[0.0, 0.0028301886792452833, 0.010377358490566...</td>\n",
       "      <td>[0.0, 0.004133696287801803, 0.0055651589431132...</td>\n",
       "      <td>[0.0, 0.004557036712638188, 0.0029832808114796...</td>\n",
       "      <td>0.648529</td>\n",
       "      <td>0.002969</td>\n",
       "      <td>100.0</td>\n",
       "    </tr>\n",
       "  </tbody>\n",
       "</table>\n",
       "</div>"
      ],
      "text/plain": [
       "   Unnamed: 0                                          fprs_mean  \\\n",
       "0           0  [0.0, 0.15294117647058822, 0.1588235294117647,...   \n",
       "1           1  [0.0, 0.04215686274509804, 0.0607843137254902,...   \n",
       "2           2  [0.0, 0.00784313725490196, 0.02058823529411764...   \n",
       "3           3  [0.0, 0.026470588235294114, 0.0333333333333333...   \n",
       "4           4  [0.0, 0.010784313725490196, 0.0205882352941176...   \n",
       "5           5  [0.0, 0.02058823529411765, 0.03725490196078431...   \n",
       "6           6  [0.0, 0.020588235294117643, 0.0274509803921568...   \n",
       "7           7  [0.0, 0.011764705882352941, 0.0186274509803921...   \n",
       "\n",
       "                                           tprs_mean  \\\n",
       "0  [0.0, 0.22075471698113208, 0.2283018867924528,...   \n",
       "1  [0.0, 0.0669811320754717, 0.0679245283018868, ...   \n",
       "2  [0.0, 0.0018867924528301887, 0.001886792452830...   \n",
       "3  [0.0, 0.027358490566037737, 0.0311320754716981...   \n",
       "4  [0.0, 0.0028301886792452833, 0.004716981132075...   \n",
       "5  [0.0, 0.014150943396226415, 0.0150943396226415...   \n",
       "6  [0.0, 0.00849056603773585, 0.01603773584905660...   \n",
       "7  [0.0, 0.0028301886792452833, 0.010377358490566...   \n",
       "\n",
       "                                            fprs_std  \\\n",
       "0  [0.0, 0.17804910091279239, 0.1789823664871754,...   \n",
       "1  [0.0, 0.060267321392003956, 0.0542523031880970...   \n",
       "2  [0.0, 0.004133696287801803, 0.0031002722158513...   \n",
       "3  [0.0, 0.04935614326284064, 0.04694976469560253...   \n",
       "4  [0.0, 0.007233968503653156, 0.0031002722158513...   \n",
       "5  [0.0, 0.012614548408901164, 0.0111303178862264...   \n",
       "6  [0.0, 0.014207232104107292, 0.0234748823478012...   \n",
       "7  [0.0, 0.004133696287801803, 0.0055651589431132...   \n",
       "\n",
       "                                            tprs_std  roc_auc_mean  \\\n",
       "0  [0.0, 0.21264001197436191, 0.21173589052949268...      0.624496   \n",
       "1  [0.0, 0.10348253448402782, 0.105503027491054, ...      0.634369   \n",
       "2  [0.0, 0.00397770774863947, 0.00397770774863947...      0.635331   \n",
       "3  [0.0, 0.08651514353290848, 0.08872718272543441...      0.638305   \n",
       "4  [0.0, 0.004557036712638188, 0.0049721346857993...      0.639151   \n",
       "5  [0.0, 0.006670818690439128, 0.0048716771650407...      0.640714   \n",
       "6  [0.0, 0.012138527714225649, 0.0109386963087585...      0.645621   \n",
       "7  [0.0, 0.004557036712638188, 0.0029832808114796...      0.648529   \n",
       "\n",
       "   roc_auc_std  hidden_layer_size  \n",
       "0     0.023751                1.0  \n",
       "1     0.006913                2.0  \n",
       "2     0.007894                4.0  \n",
       "3     0.003800                5.0  \n",
       "4     0.003357               10.0  \n",
       "5     0.002954               20.0  \n",
       "6     0.003797               50.0  \n",
       "7     0.002969              100.0  "
      ]
     },
     "execution_count": 14,
     "metadata": {},
     "output_type": "execute_result"
    }
   ],
   "source": [
    "df"
   ]
  },
  {
   "cell_type": "code",
   "execution_count": 17,
   "metadata": {},
   "outputs": [
    {
     "data": {
      "image/png": "[encoded data removed]",
      "text/plain": [
       "<Figure size 432x288 with 1 Axes>"
      ]
     },
     "metadata": {
      "needs_background": "light"
     },
     "output_type": "display_data"
    }
   ],
   "source": [
    "%matplotlib inline\n",
    "plt.bar(df.hidden_layer_size, df.roc_auc_mean)\n",
    "plt.show()"
   ]
  },
  {
   "cell_type": "code",
   "execution_count": 13,
   "metadata": {},
   "outputs": [
    {
     "data": {
      "image/png": "[encoded data removed]",
      "text/plain": [
       "<Figure size 432x288 with 1 Axes>"
      ]
     },
     "metadata": {
      "needs_background": "light"
     },
     "output_type": "display_data"
    }
   ],
   "source": [
    "plt.clf()\n",
    "plt.plot([0, 1], [0, 1], linestyle=\"--\", label=\"\")\n",
    "for _, row in df.iterrows():\n",
    "    # print(row[\"hidden_layer_size\"])\n",
    "    # print(row[\"fprs_mean\"])\n",
    "    # print(row[\"tprs_mean\"])\n",
    "    fpr = eval(row[\"fprs_mean\"])\n",
    "    tpr = eval(row[\"tprs_mean\"])\n",
    "    # print(type(fpr))\n",
    "    h_size = row[\"hidden_layer_size\"]\n",
    "    lbl=f\"{h_size} Hidden Layer Size\"\n",
    "    plt.plot(\n",
    "        fpr,\n",
    "        tpr,\n",
    "        linestyle=\"-\",\n",
    "        label=lbl\n",
    "    )\n",
    "plt.xlabel(\"False Positive Rate\")\n",
    "plt.ylabel(\"True Positive Rate\")\n",
    "plt.legend()\n",
    "plt.show()\n"
   ]
  },
  {
   "cell_type": "code",
   "execution_count": null,
   "metadata": {},
   "outputs": [],
   "source": []
  }
 ],
 "metadata": {
  "kernelspec": {
   "display_name": "Python 3",
   "language": "python",
   "name": "python3"
  },
  "language_info": {
   "codemirror_mode": {
    "name": "ipython",
    "version": 3
   },
   "file_extension": ".py",
   "mimetype": "text/x-python",
   "name": "python",
   "nbconvert_exporter": "python",
   "pygments_lexer": "ipython3",
   "version": "3.7.9"
  }
 },
 "nbformat": 4,
 "nbformat_minor": 4
}
